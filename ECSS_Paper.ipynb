{
 "cells": [
  {
   "cell_type": "code",
   "execution_count": null,
   "metadata": {
    "collapsed": true
   },
   "outputs": [],
   "source": [
    "import matplotlib as mpl\n",
    "import matplotlib.pyplot as plt\n",
    "import numpy as np\n",
    "import pandas as pd\n",
    "from mpl_toolkits.basemap import Basemap\n",
    "%matplotlib inline"
   ]
  },
  {
   "cell_type": "code",
   "execution_count": null,
   "metadata": {
    "collapsed": true
   },
   "outputs": [],
   "source": [
    " def draw_pie(ax,ratios=[0.4,0.6], X=0, Y=0, size = 1000,alpha=1):\n",
    "    N = len(ratios)\n",
    " \n",
    "    xy = []\n",
    "    \n",
    "    start = 0.\n",
    "    for ratio in ratios:\n",
    "        x = [0] + np.cos(np.linspace(2*np.pi*start,2*np.pi*(start+ratio), 30)).tolist()\n",
    "        y = [0] + np.sin(np.linspace(2*np.pi*start,2*np.pi*(start+ratio), 30)).tolist()\n",
    "        xy1 = list(zip(x,y)) # list needed for python 3\n",
    "        xy.append(xy1)\n",
    "        start += ratio\n",
    " \n",
    "    for i, xyi in enumerate(xy):\n",
    "        h = ax.scatter([X],[Y] , marker=(xyi,0), s=size, facecolor=colors[i],alpha=alpha)\n",
    "    return h\n",
    "\n",
    "def pie_size(n):\n",
    "    return 60+n*50"
   ]
  },
  {
   "cell_type": "code",
   "execution_count": null,
   "metadata": {},
   "outputs": [],
   "source": [
    "df = pd.read_excel('ECSS_participants_anonymized.xlsx')\n",
    "country = df['Country']\n",
    "nation = df['Nationality']\n",
    "print ('Participants from %s countries' %len(country.unique()))\n",
    "print ('Participants from %s nationalities' %len(nation.unique()))\n",
    "loc = pd.read_excel('Country_loc.xlsx')\n",
    "detected_names = [a for a in loc['Name'] if a in country]\n",
    "\n",
    "country_dict = []\n",
    "for cc in country.unique():\n",
    "    data = df['Nationality'][df['Country']==cc].values\n",
    "    lon = loc['Lon'][loc['Name'] == cc].values\n",
    "    lat = loc['Lat'][loc['Name'] == cc].values\n",
    "    if not lat:\n",
    "        print ('Name',cc)\n",
    "        print ('data',data)\n",
    "        print ('lon',lon)\n",
    "\n",
    "    country_dict.append({'name':cc,'data':data,'lon':lon,'lat':lat})\n",
    "print ('%s countries identified' %len(country_dict))"
   ]
  },
  {
   "cell_type": "code",
   "execution_count": null,
   "metadata": {},
   "outputs": [],
   "source": [
    "# Prepare a global map of the CLIVAR ESC Participants\n",
    "# Visualize the amount of people working in each country by circle size\n",
    "\n",
    "fig = plt.figure(figsize=(22, 12))\n",
    "ax = fig.add_subplot(111, facecolor='w', frame_on=False)\n",
    "m = Basemap(lon_0=0, projection='robin',resolution='l')\n",
    "m.drawmapboundary(color='w')\n",
    "m.drawcoastlines(color='0.5',linewidth=0.5,zorder=1)\n",
    "m.drawcountries(color='0.5',linewidth=0.5,zorder=1)\n",
    "\n",
    "colors = ['#998ec3','#f1a340']\n",
    "\n",
    "for co in country_dict:\n",
    "    X,Y = m(co['lon'],co['lat'])\n",
    "    s = pie_size(len(co['data']))\n",
    "    foreign_idx = co['data']!=co['name']\n",
    "    foreign_frac = sum(foreign_idx)/float(len(co['data']))\n",
    "    if foreign_frac > 0:\n",
    "        f = [1-foreign_frac,foreign_frac]\n",
    "    else:\n",
    "        f = [1]\n",
    "        \n",
    "    h = draw_pie(ax,f, X, Y,size=s)\n",
    "\n",
    "# Construct legend\n",
    "Lx1,Ly1 = m(0, -60)\n",
    "Lx2,Ly2 = m(10, -60)\n",
    "Lx3,Ly3 = m(20, -60)\n",
    "\n",
    "\n",
    "plt.text(Lx1,Ly1,'1',horizontalalignment='center',verticalalignment='center');\n",
    "plt.text(Lx2,Ly2,'5',horizontalalignment='center',verticalalignment='center');\n",
    "plt.text(Lx3,Ly3,'10',horizontalalignment='center',verticalalignment='center');\n",
    "draw_pie(ax,[1],Lx1,Ly1,size=pie_size(1));\n",
    "draw_pie(ax,[1],Lx2,Ly2,size=pie_size(5));\n",
    "draw_pie(ax,[1],Lx3,Ly3,size=pie_size(10));\n",
    "\n",
    "plt.title('ECSS participants')\n",
    "plt.gcf().savefig('participants.pdf')"
   ]
  },
  {
   "cell_type": "code",
   "execution_count": null,
   "metadata": {
    "collapsed": true
   },
   "outputs": [],
   "source": []
  }
 ],
 "metadata": {
  "kernelspec": {
   "display_name": "Python 3",
   "language": "python",
   "name": "python3"
  },
  "language_info": {
   "codemirror_mode": {
    "name": "ipython",
    "version": 3
   },
   "file_extension": ".py",
   "mimetype": "text/x-python",
   "name": "python",
   "nbconvert_exporter": "python",
   "pygments_lexer": "ipython3",
   "version": "3.6.2"
  }
 },
 "nbformat": 4,
 "nbformat_minor": 1
}
